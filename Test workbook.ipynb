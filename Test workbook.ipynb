{
 "cells": [
  {
   "cell_type": "code",
   "execution_count": 5,
   "id": "aa99a666",
   "metadata": {},
   "outputs": [],
   "source": [
    "import requests\n",
    "import json\n",
    "import asyncio\n",
    "from aiohttp import ClientSession\n",
    "from web3 import Web3\n",
    "from datetime import datetime\n",
    "from pprint import pprint\n",
    "import telebot"
   ]
  },
  {
   "cell_type": "code",
   "execution_count": 8,
   "id": "58c1a61c",
   "metadata": {},
   "outputs": [
    {
     "data": {
      "text/plain": [
       "497243617554757957071720515671435324516127292175"
      ]
     },
     "execution_count": 8,
     "metadata": {},
     "output_type": "execute_result"
    }
   ],
   "source": [
    "# Addresses\n",
    "# Wemix 3.0 network\n",
    "wemix_addresses = [\n",
    "    \"0x57192CCA8b8e4bEb77F3466C6D0550e64Cc53B0F\",\n",
    "    \"0xEaB8e0E07e80c35Fef600C988EC0121b1317696b\",\n",
    "    \"0x446cd4BB55dD7cddD97D7EB8dBEF193Af3687273\",\n",
    "    \"0xC5FFDA0067c63bC94D6Fa1248C2fc32eB3858a76\"\n",
    "]\n",
    "\n",
    "# Ethereum network\n",
    "eth_addresses = [\n",
    "    \"0x57192CCA8b8e4bEb77F3466C6D0550e64Cc53B0F\",\n",
    "    \"0x62271357211D8A325165d61b60F0EdcACC05Bd3e\",\n",
    "    \"0x6225C189f583fC2E17f5Be36A6A9db4d3978872D\"\n",
    "]\n",
    "\n",
    "eth_contract_addresses = [\n",
    "    \"0x2c69095d81305F1e3c6ed372336D407231624CEa\",\n",
    "    \"0xA0b86991c6218b36c1d19D4a2e9Eb0cE3606eB48\"\n",
    "]\n",
    "    \n",
    "# Polygon network\n",
    "0x57192CCA8b8e4bEb77F3466C6D0550e64Cc53B0F"
   ]
  },
  {
   "cell_type": "code",
   "execution_count": 9,
   "id": "7ae28367",
   "metadata": {},
   "outputs": [],
   "source": [
    "# API parameters for WEMIX 3.0 network call\n",
    "url_wemix = \"https://api.wemix.com\""
   ]
  },
  {
   "cell_type": "code",
   "execution_count": null,
   "id": "8936edca",
   "metadata": {},
   "outputs": [],
   "source": [
    "# Calling wemix addresses\n",
    "addresses = wemix_addresses"
   ]
  },
  {
   "cell_type": "code",
   "execution_count": 10,
   "id": "f383c0c5",
   "metadata": {},
   "outputs": [],
   "source": [
    "# Main function to call on the token balances from main rpcs. \n",
    "def get_balance(address, url, block_number=None):\n",
    "    \n",
    "    block_param = \"latest\" if block_number is None else hex(block_number)\n",
    "    \n",
    "    payload = {\n",
    "        \"jsonrpc\": \"2.0\",\n",
    "        \"id\": 1,\n",
    "        \"method\": \"eth_getBalance\",\n",
    "        \"params\": [address, block_param]\n",
    "    }\n",
    "    headers = {\"Content-Type\": \"application/json\"}\n",
    "    \n",
    "    response = requests.post(url, json=payload, headers=headers)\n",
    "    result = json.loads(response.text)['result']\n",
    "\n",
    "    result_1 = int(result, 16)\n",
    "    results_2 = result_1/1e18\n",
    "    \n",
    "    return results_2"
   ]
  },
  {
   "cell_type": "code",
   "execution_count": null,
   "id": "25ff74f8",
   "metadata": {},
   "outputs": [],
   "source": [
    "wemix_balance = []\n",
    "for address in wemix_addresses:\n",
    "    balance = get_balance(address, url_wemix, block_number_wemix)\n",
    "    wemix_balance.append(balance)"
   ]
  },
  {
   "cell_type": "code",
   "execution_count": null,
   "id": "4617dc65",
   "metadata": {
    "scrolled": true
   },
   "outputs": [],
   "source": [
    "wemix_balance"
   ]
  },
  {
   "cell_type": "code",
   "execution_count": 11,
   "id": "9bb46032",
   "metadata": {},
   "outputs": [],
   "source": [
    "# Get block number asyncio version\n",
    "async def get_block_number(session, url):\n",
    "    payload = {\n",
    "        \"jsonrpc\" : \"2.0\",\n",
    "        \"id\" : 1,\n",
    "        \"method\" : \"eth_blockNumber\",\n",
    "        \"params\" : []\n",
    "    }\n",
    "    headers = {\"Content-Type\": \"application/json\"}\n",
    "    async with session.post(url, json=payload, headers=headers) as response:\n",
    "        result = await response.json()\n",
    "        return int(result['result'], 16)"
   ]
  },
  {
   "cell_type": "code",
   "execution_count": 12,
   "id": "146b0a8a",
   "metadata": {},
   "outputs": [],
   "source": [
    "# Get block number\n",
    "def get_block_number(url):\n",
    "    payload = {\n",
    "        \"jsonrpc\" : \"2.0\",\n",
    "        \"id\" : 1,\n",
    "        \"method\" : \"eth_blockNumber\",\n",
    "        \"params\" : []\n",
    "    }\n",
    "    headers = {\"Content-Type\": \"application/json\"}\n",
    "    response = requests.post(url, json=payload, headers=headers)\n",
    "    result = json.loads(response.text)[\"result\"]\n",
    "    return int(result, 16)"
   ]
  },
  {
   "cell_type": "code",
   "execution_count": null,
   "id": "e63a0370",
   "metadata": {},
   "outputs": [],
   "source": [
    "# Get block number timestamp asyncio version\n",
    "async def get_block_timestamp(session, block_number, url):\n",
    "    payload = {\n",
    "        \"jsonrpc\" : \"2.0\",\n",
    "        \"id\" : 1,\n",
    "        \"method\" : \"eth_getBlockByNumber\",\n",
    "        \"params\" : [hex(block_number), False]\n",
    "    }\n",
    "    headers = {\"Content-Type\": \"application/json\"}\n",
    "    async with session.post(url, json=payload, headers=headers) as response:\n",
    "        result = await response.json()\n",
    "        return int(result[\"result\"][\"timestamp\"], 16)"
   ]
  },
  {
   "cell_type": "code",
   "execution_count": 13,
   "id": "f53b0a0b",
   "metadata": {},
   "outputs": [],
   "source": [
    "# Get block number timestamp\n",
    "def get_block_timestamp(block_number, url):\n",
    "    payload = {\n",
    "        \"jsonrpc\": \"2.0\",\n",
    "        \"id\": 1,\n",
    "        \"method\": \"eth_getBlockByNumber\",\n",
    "        \"params\": [hex(block_number), False]\n",
    "    }\n",
    "    headers = {\"Content-Type\": \"application/json\"}\n",
    "    response = requests.post(url, json=payload, headers=headers)\n",
    "    result = json.loads(response.text)[\"result\"]\n",
    "    return int(result[\"timestamp\"], 16)"
   ]
  },
  {
   "cell_type": "code",
   "execution_count": null,
   "id": "15d4480d",
   "metadata": {},
   "outputs": [],
   "source": [
    "# Ethereum rpc node call for specific token balance asyncio version\n",
    "async def get_token_balance(session, wallet, token_contract, url):\n",
    "    function_signature = \"0x70a08231\"\n",
    "    padded_wallet = \"0\" * (64 - len(wallet[2:])) + wallet[2:]\n",
    "    data = function_signature + padded_wallet\n",
    "    \n",
    "    payload = {\n",
    "        \"jsonrpc\" : \"2.0\",\n",
    "        \"id\" : 1,\n",
    "        \"method\": \"eth_call\",\n",
    "        \"params\": [\n",
    "                {\n",
    "                \"to\" : token_contract,\n",
    "                \"data\": data\n",
    "            },\n",
    "            \"latest\"\n",
    "        ]\n",
    "    }\n",
    "    \n",
    "    headers = {\"Content-Type\": \"application/json\"}\n",
    "    \n",
    "    async with session.post(url, json=payload, headers=headers) as response:\n",
    "        result = await response.json()\n",
    "        result_1 = int(result['result'], 16)\n",
    "        if token_contract == \"0x2c69095d81305F1e3c6ed372336D407231624CEa\":\n",
    "            result_2 = result_1/1e18\n",
    "        if token_contract == \"0xA0b86991c6218b36c1d19D4a2e9Eb0cE3606eB48\":\n",
    "            result_2 = result_1/1e6\n",
    "        \n",
    "        return result_2"
   ]
  },
  {
   "cell_type": "code",
   "execution_count": 14,
   "id": "d563c8e8",
   "metadata": {},
   "outputs": [],
   "source": [
    "# Ethereum rpc node call for specific token balance\n",
    "def get_token_balance(wallet, token_contract, url, block_number=None):\n",
    "    function_signature = \"0x70a08231\"\n",
    "    padded_wallet = \"0\" * (64 - len(wallet[2:])) + wallet[2:]\n",
    "    data = function_signature + padded_wallet\n",
    "    \n",
    "    block_param = \"latest\" if block_number is None else hex(block_number)\n",
    "    \n",
    "    payload = {\n",
    "        \"jsonrpc\" : \"2.0\",\n",
    "        \"id\" : 1,\n",
    "        \"method\": \"eth_call\",\n",
    "        \"params\": [\n",
    "                {\n",
    "                \"to\" : token_contract,\n",
    "                \"data\": data\n",
    "            },\n",
    "            block_param\n",
    "        ]\n",
    "    }\n",
    "    \n",
    "    headers = {\"Content-Type\": \"application/json\"}\n",
    "    response = requests.post(url, json=payload, headers=headers)\n",
    "    result = json.loads(response.text)['result']\n",
    "    result_1 = int(result, 16)\n",
    "    if token_contract == \"0x2c69095d81305F1e3c6ed372336D407231624CEa\":\n",
    "        result_2 = result_1/1e18\n",
    "    if token_contract == \"0xA0b86991c6218b36c1d19D4a2e9Eb0cE3606eB48\":\n",
    "        result_2 = result_1/1e6\n",
    "        \n",
    "    return result_2"
   ]
  },
  {
   "cell_type": "code",
   "execution_count": null,
   "id": "f561c96b",
   "metadata": {},
   "outputs": [],
   "source": [
    "# Main function to call the token addresses\n",
    "async def main():\n",
    "    # Wemix addresses\n",
    "    wemix_addresses = [\n",
    "        \"0x57192CCA8b8e4bEb77F3466C6D0550e64Cc53B0F\",\n",
    "        \"0xEaB8e0E07e80c35Fef600C988EC0121b1317696b\",\n",
    "        \"0x446cd4BB55dD7cddD97D7EB8dBEF193Af3687273\",\n",
    "        \"0xC5FFDA0067c63bC94D6Fa1248C2fc32eB3858a76\"\n",
    "    ]\n",
    "\n",
    "    # Ethereum network\n",
    "    eth_addresses = [\n",
    "        \"0x57192CCA8b8e4bEb77F3466C6D0550e64Cc53B0F\",\n",
    "        \"0x62271357211D8A325165d61b60F0EdcACC05Bd3e\",\n",
    "        \"0x6225C189f583fC2E17f5Be36A6A9db4d3978872D\"\n",
    "    ]\n",
    "\n",
    "    # Ethereum token contracts\n",
    "    eth_contract_addresses = [\n",
    "        \"0x2c69095d81305F1e3c6ed372336D407231624CEa\",\n",
    "        \"0xA0b86991c6218b36c1d19D4a2e9Eb0cE3606eB48\"\n",
    "    ]\n",
    "\n",
    "    # Ethereum node url\n",
    "    url_eth = \"https://mainnet.infura.io/v3/0c926d471842463fb7b7196054fc5bde\"\n",
    "    \n",
    "    async with ClientSession() as session:\n",
    "        tasks = []\n",
    "        for address in eth_addresses:\n",
    "            for token_contract in eth_contract_addresses:\n",
    "                task = asyncio.ensure_future(get_token_balance(session, address, token_contract, url_eth))\n",
    "                tasks.append(task)\n",
    "                \n",
    "        balances = await asyncio.gather(*tasks)\n",
    "        \n",
    "        for i, address in enumerate(eth_addresses):\n",
    "            for j, token_contract in enumerate(eth_contract_addresses):\n",
    "                balance = balances[i * len(eth_contract_addresses) + j]\n",
    "                print(f\"token balance of {address} for contract {token_contract}: {balance}\")\n"
   ]
  },
  {
   "cell_type": "code",
   "execution_count": null,
   "id": "a89b9954",
   "metadata": {},
   "outputs": [],
   "source": [
    "url_eth = \"https://mainnet.infura.io/v3/0c926d471842463fb7b7196054fc5bde\"\n",
    "result_eth = []\n",
    "for address in eth_addresses:\n",
    "    for token_contract in eth_contract_addresses:\n",
    "        token_balance = get_token_balance(address, token_contract, url_eth)\n",
    "        result_eth.append(token_balance)"
   ]
  },
  {
   "cell_type": "code",
   "execution_count": null,
   "id": "aeffc059",
   "metadata": {},
   "outputs": [],
   "source": [
    "result_eth"
   ]
  },
  {
   "cell_type": "code",
   "execution_count": null,
   "id": "c5ad9a47",
   "metadata": {},
   "outputs": [],
   "source": [
    "# Get the block numbers and timestamps\n",
    "block_number_wemix = get_block_number(url_wemix)\n",
    "block_number_eth = get_block_number(url_eth)\n",
    "block_timestamp = get_block_timestamp(block_number_eth, url_eth)\n",
    "block_datetime = datetime.fromtimestamp(block_timestamp)\n",
    "\n",
    "print(f\"Block number (WEMIX): {block_number_wemix}\")\n",
    "print(f\"Block number (ETH): {block_number_eth}\")\n",
    "print(f\"Block timestamp: {block_timestamp} ({block_datetime})\")"
   ]
  },
  {
   "cell_type": "code",
   "execution_count": 15,
   "id": "8376cb34",
   "metadata": {},
   "outputs": [
    {
     "name": "stdout",
     "output_type": "stream",
     "text": [
      "Block number (WEMIX): 15403983\n",
      "{'0x57192CCA8b8e4bEb77F3466C6D0550e64Cc53B0F': 4549639.4008327, '0xEaB8e0E07e80c35Fef600C988EC0121b1317696b': 99999.99999999999, '0x446cd4BB55dD7cddD97D7EB8dBEF193Af3687273': 0.987599399999876, '0xC5FFDA0067c63bC94D6Fa1248C2fc32eB3858a76': 208.958334}\n",
      "Block number (ETH): 17058683\n",
      "{'0x57192CCA8b8e4bEb77F3466C6D0550e64Cc53B0F': 55610.0, '0x62271357211D8A325165d61b60F0EdcACC05Bd3e': 0.0, '0x6225C189f583fC2E17f5Be36A6A9db4d3978872D': 0.0}\n",
      "Block timestamp: 1681638671 (2023-04-16 18:51:11)\n"
     ]
    }
   ],
   "source": [
    "# Main calling program\n",
    "\n",
    "# URL for WEMIX 3.0 & ETH network call\n",
    "url_wemix = \"https://api.wemix.com\"\n",
    "url_eth = \"https://mainnet.infura.io/v3/0c926d471842463fb7b7196054fc5bde\"\n",
    "\n",
    "# Get WEMIX balance and block number for wemix chain first\n",
    "count = 0\n",
    "wemix_balance = {}\n",
    "previous_balance = []\n",
    "block_number_wemix = get_block_number(url_wemix)\n",
    "message_lines = [f\"WEMIX Network\"]\n",
    "message_lines.append(f\"Block number [WEMIX] :: {block_number_wemix}\")\n",
    "for address in wemix_addresses:\n",
    "    balance = get_balance(address, url_wemix, block_number_wemix)\n",
    "    #wemix_balance.append(balance)\n",
    "    wemix_balance[address] = balance\n",
    "    message_lines.append(f\"{address} :: {balance} WEMIX \")\n",
    "\n",
    "# Get balance on ETH wallet address\n",
    "block_number_eth = get_block_number(url_eth)\n",
    "message_lines.append(f\"Ethereum Network\")\n",
    "message_lines.append(f\"Block number [Ethereum] :: {block_number_eth}\")\n",
    "block_timestamp = get_block_timestamp(block_number_eth, url_eth)\n",
    "block_datetime = datetime.fromtimestamp(block_timestamp)\n",
    "result_eth = {}\n",
    "for address in eth_addresses:\n",
    "    for token_contract in eth_contract_addresses:\n",
    "        token_balance = get_token_balance(address, token_contract, url_eth, block_number_eth)\n",
    "        #result_eth.append(token_balance)\n",
    "        result_eth[address] = token_balance\n",
    "        if token_contract == '0x2c69095d81305F1e3c6ed372336D407231624CEa' :\n",
    "            message_lines.append(f\"{address} :: {token_balance} WEMIX\")\n",
    "        if token_contract == '0xA0b86991c6218b36c1d19D4a2e9Eb0cE3606eB48' and token_balance != 0:\n",
    "            message_lines.append(f\"{address} :: {token_balance} USDC\")\n",
    "\n",
    "        \n",
    "print(f\"Block number (WEMIX): {block_number_wemix}\")\n",
    "print(wemix_balance)\n",
    "print(f\"Block number (ETH): {block_number_eth}\")\n",
    "print(result_eth)\n",
    "print(f\"Block timestamp: {block_timestamp} ({block_datetime})\")"
   ]
  },
  {
   "cell_type": "code",
   "execution_count": 16,
   "id": "ec6e3c61",
   "metadata": {},
   "outputs": [
    {
     "data": {
      "text/plain": [
       "{'0x57192CCA8b8e4bEb77F3466C6D0550e64Cc53B0F': 4549639.4008327,\n",
       " '0xEaB8e0E07e80c35Fef600C988EC0121b1317696b': 99999.99999999999,\n",
       " '0x446cd4BB55dD7cddD97D7EB8dBEF193Af3687273': 0.987599399999876,\n",
       " '0xC5FFDA0067c63bC94D6Fa1248C2fc32eB3858a76': 208.958334}"
      ]
     },
     "execution_count": 16,
     "metadata": {},
     "output_type": "execute_result"
    }
   ],
   "source": [
    "wemix_balance"
   ]
  },
  {
   "cell_type": "code",
   "execution_count": 17,
   "id": "e49e6ab0",
   "metadata": {},
   "outputs": [
    {
     "data": {
      "text/plain": [
       "{'0x57192CCA8b8e4bEb77F3466C6D0550e64Cc53B0F': 55610.0,\n",
       " '0x62271357211D8A325165d61b60F0EdcACC05Bd3e': 0.0,\n",
       " '0x6225C189f583fC2E17f5Be36A6A9db4d3978872D': 0.0}"
      ]
     },
     "execution_count": 17,
     "metadata": {},
     "output_type": "execute_result"
    }
   ],
   "source": [
    "result_eth"
   ]
  },
  {
   "cell_type": "code",
   "execution_count": 19,
   "id": "9ed582ff",
   "metadata": {},
   "outputs": [
    {
     "name": "stdout",
     "output_type": "stream",
     "text": [
      "Block number (WEMIX): 15404180\n",
      "{'0x57192CCA8b8e4bEb77F3466C6D0550e64Cc53B0F': 4549639.4008327, '0xEaB8e0E07e80c35Fef600C988EC0121b1317696b': 99999.99999999999, '0x446cd4BB55dD7cddD97D7EB8dBEF193Af3687273': 0.987599399999876, '0xC5FFDA0067c63bC94D6Fa1248C2fc32eB3858a76': 208.958334}\n",
      "Block number (ETH): 17058699\n",
      "{'0x57192CCA8b8e4bEb77F3466C6D0550e64Cc53B0F': 55610.0, '0x62271357211D8A325165d61b60F0EdcACC05Bd3e': 0.0, '0x6225C189f583fC2E17f5Be36A6A9db4d3978872D': 0.0}\n",
      "Block timestamp: 1681638875 (2023-04-16 18:54:35)\n"
     ]
    }
   ],
   "source": [
    "# Main calling program\n",
    "\n",
    "# URL for WEMIX 3.0 & ETH network call\n",
    "url_wemix = \"https://api.wemix.com\"\n",
    "url_eth = \"https://mainnet.infura.io/v3/0c926d471842463fb7b7196054fc5bde\"\n",
    "\n",
    "# Get WEMIX balance and block number for wemix chain first\n",
    "count = 0\n",
    "previous_balance_wemix = {}\n",
    "block_number_wemix = get_block_number(url_wemix)\n",
    "message_lines = [f\"WEMIX Network\"]\n",
    "message_lines.append(f\"Block number [WEMIX] :: {block_number_wemix}\")\n",
    "for address in wemix_addresses:\n",
    "    balance = get_balance(address, url_wemix, block_number_wemix)\n",
    "    #wemix_balance.append(balance)\n",
    "    previous_balance_wemix[address] = balance\n",
    "    message_lines.append(f\"{address} :: {balance} WEMIX \")\n",
    "\n",
    "# Get balance on ETH wallet address\n",
    "block_number_eth = get_block_number(url_eth)\n",
    "message_lines.append(f\"Ethereum Network\")\n",
    "message_lines.append(f\"Block number [Ethereum] :: {block_number_eth}\")\n",
    "block_timestamp = get_block_timestamp(block_number_eth, url_eth)\n",
    "block_datetime = datetime.fromtimestamp(block_timestamp)\n",
    "previous_balance_eth = {}\n",
    "for address in eth_addresses:\n",
    "    for token_contract in eth_contract_addresses:\n",
    "        token_balance = get_token_balance(address, token_contract, url_eth, block_number_eth)\n",
    "        #result_eth.append(token_balance)\n",
    "        previous_balance_eth[address] = token_balance\n",
    "        if token_contract == '0x2c69095d81305F1e3c6ed372336D407231624CEa' :\n",
    "            message_lines.append(f\"{address} :: {token_balance} WEMIX\")\n",
    "        if token_contract == '0xA0b86991c6218b36c1d19D4a2e9Eb0cE3606eB48' and token_balance != 0:\n",
    "            message_lines.append(f\"{address} :: {token_balance} USDC\")\n",
    "\n",
    "        \n",
    "print(f\"Block number (WEMIX): {block_number_wemix}\")\n",
    "print(previous_balance_wemix)\n",
    "print(f\"Block number (ETH): {block_number_eth}\")\n",
    "print(previous_balance_eth)\n",
    "print(f\"Block timestamp: {block_timestamp} ({block_datetime})\")"
   ]
  },
  {
   "cell_type": "code",
   "execution_count": 20,
   "id": "897b6405",
   "metadata": {},
   "outputs": [
    {
     "data": {
      "text/plain": [
       "{'0x57192CCA8b8e4bEb77F3466C6D0550e64Cc53B0F': 4549639.4008327,\n",
       " '0xEaB8e0E07e80c35Fef600C988EC0121b1317696b': 99999.99999999999,\n",
       " '0x446cd4BB55dD7cddD97D7EB8dBEF193Af3687273': 0.987599399999876,\n",
       " '0xC5FFDA0067c63bC94D6Fa1248C2fc32eB3858a76': 208.958334}"
      ]
     },
     "execution_count": 20,
     "metadata": {},
     "output_type": "execute_result"
    }
   ],
   "source": [
    "previous_balance_wemix"
   ]
  },
  {
   "cell_type": "code",
   "execution_count": 21,
   "id": "1ecb86cb",
   "metadata": {},
   "outputs": [
    {
     "data": {
      "text/plain": [
       "{'0x57192CCA8b8e4bEb77F3466C6D0550e64Cc53B0F': 55610.0,\n",
       " '0x62271357211D8A325165d61b60F0EdcACC05Bd3e': 0.0,\n",
       " '0x6225C189f583fC2E17f5Be36A6A9db4d3978872D': 0.0}"
      ]
     },
     "execution_count": 21,
     "metadata": {},
     "output_type": "execute_result"
    }
   ],
   "source": [
    "previous_balance_eth"
   ]
  },
  {
   "cell_type": "code",
   "execution_count": 25,
   "id": "948089d4",
   "metadata": {},
   "outputs": [
    {
     "name": "stdout",
     "output_type": "stream",
     "text": [
      "Wemix balance: 4549639.4008327\n",
      "Previous balance: 4549639.4008327\n",
      "Wemix balance: 99999.99999999999\n",
      "Previous balance: 99999.99999999999\n",
      "Wemix balance: 0.987599399999876\n",
      "Previous balance: 0.987599399999876\n",
      "Wemix balance: 208.958334\n",
      "Previous balance: 208.958334\n"
     ]
    }
   ],
   "source": [
    "# Compare the changes of the previous to new\n",
    "\n",
    "for address in wemix_addresses:\n",
    "    print(f'Wemix balance: {wemix_balance[address]}')\n",
    "    print(f'Previous balance: {previous_balance_wemix[address]}')\n",
    "    if wemix_balance[address] != previous_balance_wemix[address]:\n",
    "        print(f'New transaction found on Block number: {block_number_wemix}!')\n",
    "        transactions = get_transactions(address, url_wemix, block_number_wemix)\n",
    "        print(transactions)\n",
    "        \n"
   ]
  },
  {
   "cell_type": "code",
   "execution_count": 50,
   "id": "177e6382",
   "metadata": {},
   "outputs": [],
   "source": [
    "# Get transaction on WEMIX network\n",
    "def get_transactions_wemix(address, url, block_number):\n",
    "    transactions = []\n",
    "    for block_index in range(block_number - 12, block_number+1):\n",
    "    \n",
    "        payload = {\n",
    "            \"jsonrpc\": \"2.0\",\n",
    "            \"method\": \"eth_getBlockByNumber\",\n",
    "            \"params\": [hex(block_index), True],\n",
    "            \"id\": 1\n",
    "        }\n",
    "        response = requests.post(url, json=payload)\n",
    "        block = response.json()['result']\n",
    "        \n",
    "        for tx in block[\"transactions\"]:\n",
    "            if tx[\"from\"].lower() == address.lower() or tx[\"to\"].lower() == address.lower():\n",
    "                transactions.append(tx)\n",
    "    \n",
    "    return transactions\n",
    "            "
   ]
  },
  {
   "cell_type": "code",
   "execution_count": 53,
   "id": "7472f91f",
   "metadata": {},
   "outputs": [],
   "source": [
    "# Get transaction from Ethereum network\n",
    "def get_transactions_eth(address, url, block_number):\n",
    "    transactions = []\n",
    "    for block_index in range(block_number - 12, block_number+1):\n",
    "    \n",
    "        payload = {\n",
    "            \"jsonrpc\": \"2.0\",\n",
    "            \"method\": \"eth_getBlockByNumber\",\n",
    "            \"params\": [hex(block_index), True],\n",
    "            \"id\": 1\n",
    "        }\n",
    "        response = requests.post(url, json=payload)\n",
    "        block = response.json()['result']\n",
    "        \n",
    "        for tx in block[\"transactions\"]:\n",
    "            if tx[\"from\"] == address or tx[\"to\"] == address:\n",
    "                transactions.append(tx)\n",
    "    \n",
    "    return transactions"
   ]
  },
  {
   "cell_type": "code",
   "execution_count": 54,
   "id": "ede6db8b",
   "metadata": {},
   "outputs": [
    {
     "data": {
      "text/plain": [
       "[{'accessList': [],\n",
       "  'blockHash': '0x262f75ec1834184e6475db2017f8e55c26397a505cdb4335534f9f3ed599298d',\n",
       "  'blockNumber': '0x1039f62',\n",
       "  'chainId': '0x1',\n",
       "  'from': '0x57192cca8b8e4beb77f3466c6d0550e64cc53b0f',\n",
       "  'gas': '0xae13',\n",
       "  'gasPrice': '0x4d210cb46',\n",
       "  'hash': '0xcedd78e657c9b3ad8402fb92ba617d75b98d5916da5b95d7d334527527e4fd4a',\n",
       "  'input': '0x241dc2df0000000000000000000000002c69095d81305f1e3c6ed372336d407231624cea000000000000000000000000c5ffda0067c63bc94d6fa1248c2fc32eb3858a760000000000000000000000000000000000000000000000056bc75e2d631000000000000000000000000000000000000000000000000000000000000000000457',\n",
       "  'maxFeePerGas': '0xd88994930',\n",
       "  'maxPriorityFeePerGas': '0x3f9920c0',\n",
       "  'nonce': '0x5',\n",
       "  'r': '0xb94d9b4325f4f171ddc1dc637eb82563aac34b8e713b2e86a8d1c4982d853217',\n",
       "  's': '0x3ad344b5e930b81e9a8fdc453d4ab05e644e0cb53b5bb4ae6fe4e7b35fdff191',\n",
       "  'to': '0x765277eebeca2e31912c9946eae1021199b39c61',\n",
       "  'transactionIndex': '0x43',\n",
       "  'type': '0x2',\n",
       "  'v': '0x0',\n",
       "  'value': '0x0'}]"
      ]
     },
     "execution_count": 54,
     "metadata": {},
     "output_type": "execute_result"
    }
   ],
   "source": [
    "address = '0x57192cca8b8e4beb77f3466c6d0550e64cc53b0f'\n",
    "transaction = get_transactions_eth(address,url_eth, 17014626)\n",
    "transaction"
   ]
  },
  {
   "cell_type": "code",
   "execution_count": 48,
   "id": "f511066f",
   "metadata": {},
   "outputs": [
    {
     "data": {
      "text/plain": [
       "'0x44305dbe5566ae452788dd22081699ee9de13a72'"
      ]
     },
     "execution_count": 48,
     "metadata": {},
     "output_type": "execute_result"
    }
   ],
   "source": [
    "block_number = transaction[0][\"from\"]\n",
    "block_number"
   ]
  },
  {
   "cell_type": "code",
   "execution_count": null,
   "id": "666ab76d",
   "metadata": {},
   "outputs": [],
   "source": [
    "# Telegram bot send function\n",
    "def send_telegram_message(bot_token, chat_id, message):\n",
    "    url = f\"https://api.telegram.org/bot{bot_token}/sendMessage\"\n",
    "    payload = {\n",
    "        \"chat_id\": chat_id,\n",
    "        \"text\": message\n",
    "    }\n",
    "    response = requests.post(url, json=payload)\n",
    "    return response.json()"
   ]
  },
  {
   "cell_type": "code",
   "execution_count": null,
   "id": "b61a22b4",
   "metadata": {},
   "outputs": [],
   "source": [
    "message_lines"
   ]
  },
  {
   "cell_type": "code",
   "execution_count": null,
   "id": "b247ebb9",
   "metadata": {},
   "outputs": [],
   "source": [
    "# Telegram bot \n",
    "#5961430353:AAENiehDUvjJ49K9Kw-fUAiGBhbV3jtPqrg\n",
    "\n",
    "#Initialize bot:\n",
    "bot_token = \"5961430353:AAENiehDUvjJ49K9Kw-fUAiGBhbV3jtPqrg\"\n",
    "chat_id = '1628044387'\n",
    "\n",
    "message = \"\\n\".join(message_lines)\n",
    "send_telegram_message(bot_token, chat_id, message)"
   ]
  },
  {
   "cell_type": "code",
   "execution_count": null,
   "id": "ca3e3f4b",
   "metadata": {},
   "outputs": [],
   "source": [
    "# Api for my bot\n",
    "https://api.telegram.org/bot5961430353:AAENiehDUvjJ49K9Kw-fUAiGBhbV3jtPqrg/getMe\n",
    "        \n",
    "        "
   ]
  },
  {
   "cell_type": "code",
   "execution_count": 56,
   "id": "bb0ee3cd",
   "metadata": {},
   "outputs": [
    {
     "name": "stdout",
     "output_type": "stream",
     "text": [
      "{'ok': True,\n",
      " 'result': [{'message': {'chat': {'first_name': 'WH',\n",
      "                                  'id': 1628044387,\n",
      "                                  'type': 'private',\n",
      "                                  'username': 'wonheejo'},\n",
      "                         'date': 1681633918,\n",
      "                         'from': {'first_name': 'WH',\n",
      "                                  'id': 1628044387,\n",
      "                                  'is_bot': False,\n",
      "                                  'language_code': 'ko',\n",
      "                                  'username': 'wonheejo'},\n",
      "                         'message_id': 38,\n",
      "                         'text': 'asdf'},\n",
      "             'update_id': 107535527},\n",
      "            {'message': {'chat': {'first_name': 'WH',\n",
      "                                  'id': 1628044387,\n",
      "                                  'type': 'private',\n",
      "                                  'username': 'wonheejo'},\n",
      "                         'date': 1681633925,\n",
      "                         'from': {'first_name': 'WH',\n",
      "                                  'id': 1628044387,\n",
      "                                  'is_bot': False,\n",
      "                                  'language_code': 'ko',\n",
      "                                  'username': 'wonheejo'},\n",
      "                         'message_id': 39,\n",
      "                         'text': 'test after connecting to tmux session'},\n",
      "             'update_id': 107535528},\n",
      "            {'message': {'chat': {'first_name': 'WH',\n",
      "                                  'id': 1628044387,\n",
      "                                  'type': 'private',\n",
      "                                  'username': 'wonheejo'},\n",
      "                         'date': 1681634130,\n",
      "                         'from': {'first_name': 'WH',\n",
      "                                  'id': 1628044387,\n",
      "                                  'is_bot': False,\n",
      "                                  'language_code': 'ko',\n",
      "                                  'username': 'wonheejo'},\n",
      "                         'message_id': 47,\n",
      "                         'text': 'Exited from SSH'},\n",
      "             'update_id': 107535529},\n",
      "            {'message': {'chat': {'first_name': 'WH',\n",
      "                                  'id': 1628044387,\n",
      "                                  'type': 'private',\n",
      "                                  'username': 'wonheejo'},\n",
      "                         'date': 1681634133,\n",
      "                         'from': {'first_name': 'WH',\n",
      "                                  'id': 1628044387,\n",
      "                                  'is_bot': False,\n",
      "                                  'language_code': 'ko',\n",
      "                                  'username': 'wonheejo'},\n",
      "                         'message_id': 48,\n",
      "                         'text': 'test continue'},\n",
      "             'update_id': 107535530},\n",
      "            {'my_chat_member': {'chat': {'all_members_are_administrators': True,\n",
      "                                         'id': -736075853,\n",
      "                                         'title': 'WH & wemix_hacker_tracker, '\n",
      "                                                  '심현보',\n",
      "                                         'type': 'group'},\n",
      "                                'date': 1681634255,\n",
      "                                'from': {'first_name': 'WH',\n",
      "                                         'id': 1628044387,\n",
      "                                         'is_bot': False,\n",
      "                                         'language_code': 'ko',\n",
      "                                         'username': 'wonheejo'},\n",
      "                                'new_chat_member': {'status': 'member',\n",
      "                                                    'user': {'first_name': 'wemix_hacker_tracker',\n",
      "                                                             'id': 5961430353,\n",
      "                                                             'is_bot': True,\n",
      "                                                             'username': 'wemix_hacker_tracker_bot'}},\n",
      "                                'old_chat_member': {'status': 'left',\n",
      "                                                    'user': {'first_name': 'wemix_hacker_tracker',\n",
      "                                                             'id': 5961430353,\n",
      "                                                             'is_bot': True,\n",
      "                                                             'username': 'wemix_hacker_tracker_bot'}}},\n",
      "             'update_id': 107535531},\n",
      "            {'message': {'chat': {'all_members_are_administrators': True,\n",
      "                                  'id': -736075853,\n",
      "                                  'title': 'WH & wemix_hacker_tracker, 심현보',\n",
      "                                  'type': 'group'},\n",
      "                         'date': 1681634255,\n",
      "                         'from': {'first_name': 'WH',\n",
      "                                  'id': 1628044387,\n",
      "                                  'is_bot': False,\n",
      "                                  'language_code': 'ko',\n",
      "                                  'username': 'wonheejo'},\n",
      "                         'group_chat_created': True,\n",
      "                         'message_id': 53},\n",
      "             'update_id': 107535532},\n",
      "            {'my_chat_member': {'chat': {'id': -1001984709682,\n",
      "                                         'title': 'wemix hacker tracker',\n",
      "                                         'type': 'channel'},\n",
      "                                'date': 1681634548,\n",
      "                                'from': {'first_name': 'WH',\n",
      "                                         'id': 1628044387,\n",
      "                                         'is_bot': False,\n",
      "                                         'language_code': 'ko',\n",
      "                                         'username': 'wonheejo'},\n",
      "                                'new_chat_member': {'can_be_edited': False,\n",
      "                                                    'can_change_info': True,\n",
      "                                                    'can_delete_messages': True,\n",
      "                                                    'can_edit_messages': True,\n",
      "                                                    'can_invite_users': True,\n",
      "                                                    'can_manage_chat': True,\n",
      "                                                    'can_manage_video_chats': True,\n",
      "                                                    'can_manage_voice_chats': True,\n",
      "                                                    'can_post_messages': True,\n",
      "                                                    'can_promote_members': False,\n",
      "                                                    'can_restrict_members': True,\n",
      "                                                    'is_anonymous': False,\n",
      "                                                    'status': 'administrator',\n",
      "                                                    'user': {'first_name': 'wemix_hacker_tracker',\n",
      "                                                             'id': 5961430353,\n",
      "                                                             'is_bot': True,\n",
      "                                                             'username': 'wemix_hacker_tracker_bot'}},\n",
      "                                'old_chat_member': {'status': 'left',\n",
      "                                                    'user': {'first_name': 'wemix_hacker_tracker',\n",
      "                                                             'id': 5961430353,\n",
      "                                                             'is_bot': True,\n",
      "                                                             'username': 'wemix_hacker_tracker_bot'}}},\n",
      "             'update_id': 107535533},\n",
      "            {'message': {'chat': {'first_name': 'WH',\n",
      "                                  'id': 1628044387,\n",
      "                                  'type': 'private',\n",
      "                                  'username': 'wonheejo'},\n",
      "                         'date': 1681634677,\n",
      "                         'entities': [{'length': 75,\n",
      "                                       'offset': 0,\n",
      "                                       'type': 'url'}],\n",
      "                         'from': {'first_name': 'WH',\n",
      "                                  'id': 1628044387,\n",
      "                                  'is_bot': False,\n",
      "                                  'language_code': 'ko',\n",
      "                                  'username': 'wonheejo'},\n",
      "                         'message_id': 69,\n",
      "                         'text': 'https://api.telegram.org/bot123456:ABC-DEF1234ghIkl-zyx57W2v1u123ew11/getMe'},\n",
      "             'update_id': 107535534},\n",
      "            {'channel_post': {'chat': {'id': -1001984709682,\n",
      "                                       'title': 'wemix hacker tracker',\n",
      "                                       'type': 'channel'},\n",
      "                              'date': 1681635046,\n",
      "                              'message_id': 2,\n",
      "                              'sender_chat': {'id': -1001984709682,\n",
      "                                              'title': 'wemix hacker tracker',\n",
      "                                              'type': 'channel'},\n",
      "                              'text': 'test'},\n",
      "             'update_id': 107535535},\n",
      "            {'channel_post': {'chat': {'id': -1001984709682,\n",
      "                                       'title': 'Wemix Hacker wallet balance '\n",
      "                                                'checker',\n",
      "                                       'type': 'channel'},\n",
      "                              'date': 1681660853,\n",
      "                              'message_id': 836,\n",
      "                              'new_chat_title': 'Wemix Hacker wallet balance '\n",
      "                                                'checker',\n",
      "                              'sender_chat': {'id': -1001984709682,\n",
      "                                              'title': 'Wemix Hacker wallet '\n",
      "                                                       'balance checker',\n",
      "                                              'type': 'channel'}},\n",
      "             'update_id': 107535536},\n",
      "            {'my_chat_member': {'chat': {'id': -1001916320696,\n",
      "                                         'title': 'Wemix Hacker Txn alert',\n",
      "                                         'type': 'channel'},\n",
      "                                'date': 1681661845,\n",
      "                                'from': {'first_name': 'WH',\n",
      "                                         'id': 1628044387,\n",
      "                                         'is_bot': False,\n",
      "                                         'language_code': 'ko',\n",
      "                                         'username': 'wonheejo'},\n",
      "                                'new_chat_member': {'can_be_edited': False,\n",
      "                                                    'can_change_info': True,\n",
      "                                                    'can_delete_messages': True,\n",
      "                                                    'can_edit_messages': True,\n",
      "                                                    'can_invite_users': True,\n",
      "                                                    'can_manage_chat': True,\n",
      "                                                    'can_manage_video_chats': True,\n",
      "                                                    'can_manage_voice_chats': True,\n",
      "                                                    'can_post_messages': True,\n",
      "                                                    'can_promote_members': False,\n",
      "                                                    'can_restrict_members': True,\n",
      "                                                    'is_anonymous': False,\n",
      "                                                    'status': 'administrator',\n",
      "                                                    'user': {'first_name': 'wemix_hacker_tracker',\n",
      "                                                             'id': 5961430353,\n",
      "                                                             'is_bot': True,\n",
      "                                                             'username': 'wemix_hacker_tracker_bot'}},\n",
      "                                'old_chat_member': {'status': 'left',\n",
      "                                                    'user': {'first_name': 'wemix_hacker_tracker',\n",
      "                                                             'id': 5961430353,\n",
      "                                                             'is_bot': True,\n",
      "                                                             'username': 'wemix_hacker_tracker_bot'}}},\n",
      "             'update_id': 107535537},\n",
      "            {'channel_post': {'chat': {'id': -1001916320696,\n",
      "                                       'title': 'Wemix Hacker Txn alert',\n",
      "                                       'type': 'channel'},\n",
      "                              'date': 1681661873,\n",
      "                              'message_id': 2,\n",
      "                              'sender_chat': {'id': -1001916320696,\n",
      "                                              'title': 'Wemix Hacker Txn alert',\n",
      "                                              'type': 'channel'},\n",
      "                              'text': 'txn alert'},\n",
      "             'update_id': 107535538}]}\n"
     ]
    }
   ],
   "source": [
    "bot_token = \"5961430353:AAENiehDUvjJ49K9Kw-fUAiGBhbV3jtPqrg\"\n",
    "\n",
    "def get_updates(bot_token):\n",
    "    url = f\"https://api.telegram.org/bot{bot_token}/getUpdates\"\n",
    "    response = requests.get(url)\n",
    "    return response.json()\n",
    "\n",
    "updates = get_updates(bot_token)\n",
    "pprint(updates)"
   ]
  },
  {
   "cell_type": "code",
   "execution_count": null,
   "id": "3ed72944",
   "metadata": {},
   "outputs": [],
   "source": []
  }
 ],
 "metadata": {
  "kernelspec": {
   "display_name": "Python 3 (ipykernel)",
   "language": "python",
   "name": "python3"
  },
  "language_info": {
   "codemirror_mode": {
    "name": "ipython",
    "version": 3
   },
   "file_extension": ".py",
   "mimetype": "text/x-python",
   "name": "python",
   "nbconvert_exporter": "python",
   "pygments_lexer": "ipython3",
   "version": "3.9.13"
  }
 },
 "nbformat": 4,
 "nbformat_minor": 5
}
