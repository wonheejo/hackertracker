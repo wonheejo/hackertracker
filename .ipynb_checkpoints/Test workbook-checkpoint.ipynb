{
 "cells": [
  {
   "cell_type": "code",
   "execution_count": 5,
   "id": "1bae2d42",
   "metadata": {},
   "outputs": [],
   "source": [
    "import requests\n",
    "import json\n",
    "import asyncio\n",
    "from aiohttp import ClientSession\n",
    "from web3 import Web3\n",
    "from datetime import datetime\n",
    "from pprint import pprint\n",
    "import telebot"
   ]
  },
  {
   "cell_type": "code",
   "execution_count": 8,
   "id": "d0f365b2",
   "metadata": {},
   "outputs": [
    {
     "data": {
      "text/plain": [
       "497243617554757957071720515671435324516127292175"
      ]
     },
     "execution_count": 8,
     "metadata": {},
     "output_type": "execute_result"
    }
   ],
   "source": [
    "# Addresses\n",
    "# Wemix 3.0 network\n",
    "wemix_addresses = [\n",
    "    \"0x57192CCA8b8e4bEb77F3466C6D0550e64Cc53B0F\",\n",
    "    \"0xEaB8e0E07e80c35Fef600C988EC0121b1317696b\",\n",
    "    \"0x446cd4BB55dD7cddD97D7EB8dBEF193Af3687273\",\n",
    "    \"0xC5FFDA0067c63bC94D6Fa1248C2fc32eB3858a76\"\n",
    "]\n",
    "\n",
    "# Ethereum network\n",
    "eth_addresses = [\n",
    "    \"0x57192CCA8b8e4bEb77F3466C6D0550e64Cc53B0F\",\n",
    "    \"0x62271357211D8A325165d61b60F0EdcACC05Bd3e\",\n",
    "    \"0x6225C189f583fC2E17f5Be36A6A9db4d3978872D\"\n",
    "]\n",
    "\n",
    "eth_contract_addresses = [\n",
    "    \"0x2c69095d81305F1e3c6ed372336D407231624CEa\",\n",
    "    \"0xA0b86991c6218b36c1d19D4a2e9Eb0cE3606eB48\"\n",
    "]\n",
    "    \n",
    "# Polygon network\n",
    "0x57192CCA8b8e4bEb77F3466C6D0550e64Cc53B0F"
   ]
  },
  {
   "cell_type": "code",
   "execution_count": 9,
   "id": "c2a10ccb",
   "metadata": {},
   "outputs": [],
   "source": [
    "# API parameters for WEMIX 3.0 network call\n",
    "url_wemix = \"https://api.wemix.com\""
   ]
  },
  {
   "cell_type": "code",
   "execution_count": null,
   "id": "323f19ab",
   "metadata": {},
   "outputs": [],
   "source": [
    "# Calling wemix addresses\n",
    "addresses = wemix_addresses"
   ]
  },
  {
   "cell_type": "code",
   "execution_count": 10,
   "id": "9c7a1e7e",
   "metadata": {},
   "outputs": [],
   "source": [
    "# Main function to call on the token balances from main rpcs. \n",
    "def get_balance(address, url, block_number=None):\n",
    "    \n",
    "    block_param = \"latest\" if block_number is None else hex(block_number)\n",
    "    \n",
    "    payload = {\n",
    "        \"jsonrpc\": \"2.0\",\n",
    "        \"id\": 1,\n",
    "        \"method\": \"eth_getBalance\",\n",
    "        \"params\": [address, block_param]\n",
    "    }\n",
    "    headers = {\"Content-Type\": \"application/json\"}\n",
    "    \n",
    "    response = requests.post(url, json=payload, headers=headers)\n",
    "    result = json.loads(response.text)['result']\n",
    "\n",
    "    result_1 = int(result, 16)\n",
    "    results_2 = result_1/1e18\n",
    "    \n",
    "    return results_2"
   ]
  },
  {
   "cell_type": "code",
   "execution_count": null,
   "id": "55cb6669",
   "metadata": {},
   "outputs": [],
   "source": [
    "wemix_balance = []\n",
    "for address in wemix_addresses:\n",
    "    balance = get_balance(address, url_wemix, block_number_wemix)\n",
    "    wemix_balance.append(balance)"
   ]
  },
  {
   "cell_type": "code",
   "execution_count": null,
   "id": "95f43c33",
   "metadata": {
    "scrolled": true
   },
   "outputs": [],
   "source": [
    "wemix_balance"
   ]
  },
  {
   "cell_type": "code",
   "execution_count": 11,
   "id": "e3fc84ca",
   "metadata": {},
   "outputs": [],
   "source": [
    "# Get block number asyncio version\n",
    "async def get_block_number(session, url):\n",
    "    payload = {\n",
    "        \"jsonrpc\" : \"2.0\",\n",
    "        \"id\" : 1,\n",
    "        \"method\" : \"eth_blockNumber\",\n",
    "        \"params\" : []\n",
    "    }\n",
    "    headers = {\"Content-Type\": \"application/json\"}\n",
    "    async with session.post(url, json=payload, headers=headers) as response:\n",
    "        result = await response.json()\n",
    "        return int(result['result'], 16)"
   ]
  },
  {
   "cell_type": "code",
   "execution_count": 12,
   "id": "7afcead3",
   "metadata": {},
   "outputs": [],
   "source": [
    "# Get block number\n",
    "def get_block_number(url):\n",
    "    payload = {\n",
    "        \"jsonrpc\" : \"2.0\",\n",
    "        \"id\" : 1,\n",
    "        \"method\" : \"eth_blockNumber\",\n",
    "        \"params\" : []\n",
    "    }\n",
    "    headers = {\"Content-Type\": \"application/json\"}\n",
    "    response = requests.post(url, json=payload, headers=headers)\n",
    "    result = json.loads(response.text)[\"result\"]\n",
    "    return int(result, 16)"
   ]
  },
  {
   "cell_type": "code",
   "execution_count": null,
   "id": "08a13731",
   "metadata": {},
   "outputs": [],
   "source": [
    "# Get block number timestamp asyncio version\n",
    "async def get_block_timestamp(session, block_number, url):\n",
    "    payload = {\n",
    "        \"jsonrpc\" : \"2.0\",\n",
    "        \"id\" : 1,\n",
    "        \"method\" : \"eth_getBlockByNumber\",\n",
    "        \"params\" : [hex(block_number), False]\n",
    "    }\n",
    "    headers = {\"Content-Type\": \"application/json\"}\n",
    "    async with session.post(url, json=payload, headers=headers) as response:\n",
    "        result = await response.json()\n",
    "        return int(result[\"result\"][\"timestamp\"], 16)"
   ]
  },
  {
   "cell_type": "code",
   "execution_count": 13,
   "id": "ce15a3cc",
   "metadata": {},
   "outputs": [],
   "source": [
    "# Get block number timestamp\n",
    "def get_block_timestamp(block_number, url):\n",
    "    payload = {\n",
    "        \"jsonrpc\": \"2.0\",\n",
    "        \"id\": 1,\n",
    "        \"method\": \"eth_getBlockByNumber\",\n",
    "        \"params\": [hex(block_number), False]\n",
    "    }\n",
    "    headers = {\"Content-Type\": \"application/json\"}\n",
    "    response = requests.post(url, json=payload, headers=headers)\n",
    "    result = json.loads(response.text)[\"result\"]\n",
    "    return int(result[\"timestamp\"], 16)"
   ]
  },
  {
   "cell_type": "code",
   "execution_count": null,
   "id": "7582021e",
   "metadata": {},
   "outputs": [],
   "source": [
    "# Ethereum rpc node call for specific token balance asyncio version\n",
    "async def get_token_balance(session, wallet, token_contract, url):\n",
    "    function_signature = \"0x70a08231\"\n",
    "    padded_wallet = \"0\" * (64 - len(wallet[2:])) + wallet[2:]\n",
    "    data = function_signature + padded_wallet\n",
    "    \n",
    "    payload = {\n",
    "        \"jsonrpc\" : \"2.0\",\n",
    "        \"id\" : 1,\n",
    "        \"method\": \"eth_call\",\n",
    "        \"params\": [\n",
    "                {\n",
    "                \"to\" : token_contract,\n",
    "                \"data\": data\n",
    "            },\n",
    "            \"latest\"\n",
    "        ]\n",
    "    }\n",
    "    \n",
    "    headers = {\"Content-Type\": \"application/json\"}\n",
    "    \n",
    "    async with session.post(url, json=payload, headers=headers) as response:\n",
    "        result = await response.json()\n",
    "        result_1 = int(result['result'], 16)\n",
    "        if token_contract == \"0x2c69095d81305F1e3c6ed372336D407231624CEa\":\n",
    "            result_2 = result_1/1e18\n",
    "        if token_contract == \"0xA0b86991c6218b36c1d19D4a2e9Eb0cE3606eB48\":\n",
    "            result_2 = result_1/1e6\n",
    "        \n",
    "        return result_2"
   ]
  },
  {
   "cell_type": "code",
   "execution_count": 14,
   "id": "88d4894b",
   "metadata": {},
   "outputs": [],
   "source": [
    "# Ethereum rpc node call for specific token balance\n",
    "def get_token_balance(wallet, token_contract, url, block_number=None):\n",
    "    function_signature = \"0x70a08231\"\n",
    "    padded_wallet = \"0\" * (64 - len(wallet[2:])) + wallet[2:]\n",
    "    data = function_signature + padded_wallet\n",
    "    \n",
    "    block_param = \"latest\" if block_number is None else hex(block_number)\n",
    "    \n",
    "    payload = {\n",
    "        \"jsonrpc\" : \"2.0\",\n",
    "        \"id\" : 1,\n",
    "        \"method\": \"eth_call\",\n",
    "        \"params\": [\n",
    "                {\n",
    "                \"to\" : token_contract,\n",
    "                \"data\": data\n",
    "            },\n",
    "            block_param\n",
    "        ]\n",
    "    }\n",
    "    \n",
    "    headers = {\"Content-Type\": \"application/json\"}\n",
    "    response = requests.post(url, json=payload, headers=headers)\n",
    "    result = json.loads(response.text)['result']\n",
    "    result_1 = int(result, 16)\n",
    "    if token_contract == \"0x2c69095d81305F1e3c6ed372336D407231624CEa\":\n",
    "        result_2 = result_1/1e18\n",
    "    if token_contract == \"0xA0b86991c6218b36c1d19D4a2e9Eb0cE3606eB48\":\n",
    "        result_2 = result_1/1e6\n",
    "        \n",
    "    return result_2"
   ]
  },
  {
   "cell_type": "code",
   "execution_count": null,
   "id": "9bae7571",
   "metadata": {},
   "outputs": [],
   "source": [
    "# Main function to call the token addresses\n",
    "async def main():\n",
    "    # Wemix addresses\n",
    "    wemix_addresses = [\n",
    "        \"0x57192CCA8b8e4bEb77F3466C6D0550e64Cc53B0F\",\n",
    "        \"0xEaB8e0E07e80c35Fef600C988EC0121b1317696b\",\n",
    "        \"0x446cd4BB55dD7cddD97D7EB8dBEF193Af3687273\",\n",
    "        \"0xC5FFDA0067c63bC94D6Fa1248C2fc32eB3858a76\"\n",
    "    ]\n",
    "\n",
    "    # Ethereum network\n",
    "    eth_addresses = [\n",
    "        \"0x57192CCA8b8e4bEb77F3466C6D0550e64Cc53B0F\",\n",
    "        \"0x62271357211D8A325165d61b60F0EdcACC05Bd3e\",\n",
    "        \"0x6225C189f583fC2E17f5Be36A6A9db4d3978872D\"\n",
    "    ]\n",
    "\n",
    "    # Ethereum token contracts\n",
    "    eth_contract_addresses = [\n",
    "        \"0x2c69095d81305F1e3c6ed372336D407231624CEa\",\n",
    "        \"0xA0b86991c6218b36c1d19D4a2e9Eb0cE3606eB48\"\n",
    "    ]\n",
    "\n",
    "    # Ethereum node url\n",
    "    url_eth = \"https://mainnet.infura.io/v3/0c926d471842463fb7b7196054fc5bde\"\n",
    "    \n",
    "    async with ClientSession() as session:\n",
    "        tasks = []\n",
    "        for address in eth_addresses:\n",
    "            for token_contract in eth_contract_addresses:\n",
    "                task = asyncio.ensure_future(get_token_balance(session, address, token_contract, url_eth))\n",
    "                tasks.append(task)\n",
    "                \n",
    "        balances = await asyncio.gather(*tasks)\n",
    "        \n",
    "        for i, address in enumerate(eth_addresses):\n",
    "            for j, token_contract in enumerate(eth_contract_addresses):\n",
    "                balance = balances[i * len(eth_contract_addresses) + j]\n",
    "                print(f\"token balance of {address} for contract {token_contract}: {balance}\")\n"
   ]
  },
  {
   "cell_type": "code",
   "execution_count": null,
   "id": "d6505e11",
   "metadata": {},
   "outputs": [],
   "source": [
    "url_eth = \"https://mainnet.infura.io/v3/0c926d471842463fb7b7196054fc5bde\"\n",
    "result_eth = []\n",
    "for address in eth_addresses:\n",
    "    for token_contract in eth_contract_addresses:\n",
    "        token_balance = get_token_balance(address, token_contract, url_eth)\n",
    "        result_eth.append(token_balance)"
   ]
  },
  {
   "cell_type": "code",
   "execution_count": null,
   "id": "76aca48d",
   "metadata": {},
   "outputs": [],
   "source": [
    "result_eth"
   ]
  },
  {
   "cell_type": "code",
   "execution_count": null,
   "id": "9aadafc5",
   "metadata": {},
   "outputs": [],
   "source": [
    "# Get the block numbers and timestamps\n",
    "block_number_wemix = get_block_number(url_wemix)\n",
    "block_number_eth = get_block_number(url_eth)\n",
    "block_timestamp = get_block_timestamp(block_number_eth, url_eth)\n",
    "block_datetime = datetime.fromtimestamp(block_timestamp)\n",
    "\n",
    "print(f\"Block number (WEMIX): {block_number_wemix}\")\n",
    "print(f\"Block number (ETH): {block_number_eth}\")\n",
    "print(f\"Block timestamp: {block_timestamp} ({block_datetime})\")"
   ]
  },
  {
   "cell_type": "code",
   "execution_count": 15,
   "id": "59a51511",
   "metadata": {},
   "outputs": [
    {
     "name": "stdout",
     "output_type": "stream",
     "text": [
      "Block number (WEMIX): 15403983\n",
      "{'0x57192CCA8b8e4bEb77F3466C6D0550e64Cc53B0F': 4549639.4008327, '0xEaB8e0E07e80c35Fef600C988EC0121b1317696b': 99999.99999999999, '0x446cd4BB55dD7cddD97D7EB8dBEF193Af3687273': 0.987599399999876, '0xC5FFDA0067c63bC94D6Fa1248C2fc32eB3858a76': 208.958334}\n",
      "Block number (ETH): 17058683\n",
      "{'0x57192CCA8b8e4bEb77F3466C6D0550e64Cc53B0F': 55610.0, '0x62271357211D8A325165d61b60F0EdcACC05Bd3e': 0.0, '0x6225C189f583fC2E17f5Be36A6A9db4d3978872D': 0.0}\n",
      "Block timestamp: 1681638671 (2023-04-16 18:51:11)\n"
     ]
    }
   ],
   "source": [
    "# Main calling program\n",
    "\n",
    "# URL for WEMIX 3.0 & ETH network call\n",
    "url_wemix = \"https://api.wemix.com\"\n",
    "url_eth = \"https://mainnet.infura.io/v3/0c926d471842463fb7b7196054fc5bde\"\n",
    "\n",
    "# Get WEMIX balance and block number for wemix chain first\n",
    "count = 0\n",
    "wemix_balance = {}\n",
    "previous_balance = []\n",
    "block_number_wemix = get_block_number(url_wemix)\n",
    "message_lines = [f\"WEMIX Network\"]\n",
    "message_lines.append(f\"Block number [WEMIX] :: {block_number_wemix}\")\n",
    "for address in wemix_addresses:\n",
    "    balance = get_balance(address, url_wemix, block_number_wemix)\n",
    "    #wemix_balance.append(balance)\n",
    "    wemix_balance[address] = balance\n",
    "    message_lines.append(f\"{address} :: {balance} WEMIX \")\n",
    "\n",
    "# Get balance on ETH wallet address\n",
    "block_number_eth = get_block_number(url_eth)\n",
    "message_lines.append(f\"Ethereum Network\")\n",
    "message_lines.append(f\"Block number [Ethereum] :: {block_number_eth}\")\n",
    "block_timestamp = get_block_timestamp(block_number_eth, url_eth)\n",
    "block_datetime = datetime.fromtimestamp(block_timestamp)\n",
    "result_eth = {}\n",
    "for address in eth_addresses:\n",
    "    for token_contract in eth_contract_addresses:\n",
    "        token_balance = get_token_balance(address, token_contract, url_eth, block_number_eth)\n",
    "        #result_eth.append(token_balance)\n",
    "        result_eth[address] = token_balance\n",
    "        if token_contract == '0x2c69095d81305F1e3c6ed372336D407231624CEa' :\n",
    "            message_lines.append(f\"{address} :: {token_balance} WEMIX\")\n",
    "        if token_contract == '0xA0b86991c6218b36c1d19D4a2e9Eb0cE3606eB48' and token_balance != 0:\n",
    "            message_lines.append(f\"{address} :: {token_balance} USDC\")\n",
    "\n",
    "        \n",
    "print(f\"Block number (WEMIX): {block_number_wemix}\")\n",
    "print(wemix_balance)\n",
    "print(f\"Block number (ETH): {block_number_eth}\")\n",
    "print(result_eth)\n",
    "print(f\"Block timestamp: {block_timestamp} ({block_datetime})\")"
   ]
  },
  {
   "cell_type": "code",
   "execution_count": 16,
   "id": "d547deb4",
   "metadata": {},
   "outputs": [
    {
     "data": {
      "text/plain": [
       "{'0x57192CCA8b8e4bEb77F3466C6D0550e64Cc53B0F': 4549639.4008327,\n",
       " '0xEaB8e0E07e80c35Fef600C988EC0121b1317696b': 99999.99999999999,\n",
       " '0x446cd4BB55dD7cddD97D7EB8dBEF193Af3687273': 0.987599399999876,\n",
       " '0xC5FFDA0067c63bC94D6Fa1248C2fc32eB3858a76': 208.958334}"
      ]
     },
     "execution_count": 16,
     "metadata": {},
     "output_type": "execute_result"
    }
   ],
   "source": [
    "wemix_balance"
   ]
  },
  {
   "cell_type": "code",
   "execution_count": 17,
   "id": "7dbfe977",
   "metadata": {},
   "outputs": [
    {
     "data": {
      "text/plain": [
       "{'0x57192CCA8b8e4bEb77F3466C6D0550e64Cc53B0F': 55610.0,\n",
       " '0x62271357211D8A325165d61b60F0EdcACC05Bd3e': 0.0,\n",
       " '0x6225C189f583fC2E17f5Be36A6A9db4d3978872D': 0.0}"
      ]
     },
     "execution_count": 17,
     "metadata": {},
     "output_type": "execute_result"
    }
   ],
   "source": [
    "result_eth"
   ]
  },
  {
   "cell_type": "code",
   "execution_count": 19,
   "id": "27748c1a",
   "metadata": {},
   "outputs": [
    {
     "name": "stdout",
     "output_type": "stream",
     "text": [
      "Block number (WEMIX): 15404180\n",
      "{'0x57192CCA8b8e4bEb77F3466C6D0550e64Cc53B0F': 4549639.4008327, '0xEaB8e0E07e80c35Fef600C988EC0121b1317696b': 99999.99999999999, '0x446cd4BB55dD7cddD97D7EB8dBEF193Af3687273': 0.987599399999876, '0xC5FFDA0067c63bC94D6Fa1248C2fc32eB3858a76': 208.958334}\n",
      "Block number (ETH): 17058699\n",
      "{'0x57192CCA8b8e4bEb77F3466C6D0550e64Cc53B0F': 55610.0, '0x62271357211D8A325165d61b60F0EdcACC05Bd3e': 0.0, '0x6225C189f583fC2E17f5Be36A6A9db4d3978872D': 0.0}\n",
      "Block timestamp: 1681638875 (2023-04-16 18:54:35)\n"
     ]
    }
   ],
   "source": [
    "# Main calling program\n",
    "\n",
    "# URL for WEMIX 3.0 & ETH network call\n",
    "url_wemix = \"https://api.wemix.com\"\n",
    "url_eth = \"https://mainnet.infura.io/v3/0c926d471842463fb7b7196054fc5bde\"\n",
    "\n",
    "# Get WEMIX balance and block number for wemix chain first\n",
    "count = 0\n",
    "previous_balance_wemix = {}\n",
    "block_number_wemix = get_block_number(url_wemix)\n",
    "message_lines = [f\"WEMIX Network\"]\n",
    "message_lines.append(f\"Block number [WEMIX] :: {block_number_wemix}\")\n",
    "for address in wemix_addresses:\n",
    "    balance = get_balance(address, url_wemix, block_number_wemix)\n",
    "    #wemix_balance.append(balance)\n",
    "    previous_balance_wemix[address] = balance\n",
    "    message_lines.append(f\"{address} :: {balance} WEMIX \")\n",
    "\n",
    "# Get balance on ETH wallet address\n",
    "block_number_eth = get_block_number(url_eth)\n",
    "message_lines.append(f\"Ethereum Network\")\n",
    "message_lines.append(f\"Block number [Ethereum] :: {block_number_eth}\")\n",
    "block_timestamp = get_block_timestamp(block_number_eth, url_eth)\n",
    "block_datetime = datetime.fromtimestamp(block_timestamp)\n",
    "previous_balance_eth = {}\n",
    "for address in eth_addresses:\n",
    "    for token_contract in eth_contract_addresses:\n",
    "        token_balance = get_token_balance(address, token_contract, url_eth, block_number_eth)\n",
    "        #result_eth.append(token_balance)\n",
    "        previous_balance_eth[address] = token_balance\n",
    "        if token_contract == '0x2c69095d81305F1e3c6ed372336D407231624CEa' :\n",
    "            message_lines.append(f\"{address} :: {token_balance} WEMIX\")\n",
    "        if token_contract == '0xA0b86991c6218b36c1d19D4a2e9Eb0cE3606eB48' and token_balance != 0:\n",
    "            message_lines.append(f\"{address} :: {token_balance} USDC\")\n",
    "\n",
    "        \n",
    "print(f\"Block number (WEMIX): {block_number_wemix}\")\n",
    "print(previous_balance_wemix)\n",
    "print(f\"Block number (ETH): {block_number_eth}\")\n",
    "print(previous_balance_eth)\n",
    "print(f\"Block timestamp: {block_timestamp} ({block_datetime})\")"
   ]
  },
  {
   "cell_type": "code",
   "execution_count": 20,
   "id": "63cb8eac",
   "metadata": {},
   "outputs": [
    {
     "data": {
      "text/plain": [
       "{'0x57192CCA8b8e4bEb77F3466C6D0550e64Cc53B0F': 4549639.4008327,\n",
       " '0xEaB8e0E07e80c35Fef600C988EC0121b1317696b': 99999.99999999999,\n",
       " '0x446cd4BB55dD7cddD97D7EB8dBEF193Af3687273': 0.987599399999876,\n",
       " '0xC5FFDA0067c63bC94D6Fa1248C2fc32eB3858a76': 208.958334}"
      ]
     },
     "execution_count": 20,
     "metadata": {},
     "output_type": "execute_result"
    }
   ],
   "source": [
    "previous_balance_wemix"
   ]
  },
  {
   "cell_type": "code",
   "execution_count": 21,
   "id": "756a4084",
   "metadata": {},
   "outputs": [
    {
     "data": {
      "text/plain": [
       "{'0x57192CCA8b8e4bEb77F3466C6D0550e64Cc53B0F': 55610.0,\n",
       " '0x62271357211D8A325165d61b60F0EdcACC05Bd3e': 0.0,\n",
       " '0x6225C189f583fC2E17f5Be36A6A9db4d3978872D': 0.0}"
      ]
     },
     "execution_count": 21,
     "metadata": {},
     "output_type": "execute_result"
    }
   ],
   "source": [
    "previous_balance_eth"
   ]
  },
  {
   "cell_type": "code",
   "execution_count": 25,
   "id": "3c016b0f",
   "metadata": {},
   "outputs": [
    {
     "name": "stdout",
     "output_type": "stream",
     "text": [
      "Wemix balance: 4549639.4008327\n",
      "Previous balance: 4549639.4008327\n",
      "Wemix balance: 99999.99999999999\n",
      "Previous balance: 99999.99999999999\n",
      "Wemix balance: 0.987599399999876\n",
      "Previous balance: 0.987599399999876\n",
      "Wemix balance: 208.958334\n",
      "Previous balance: 208.958334\n"
     ]
    }
   ],
   "source": [
    "# Compare the changes of the previous to new\n",
    "\n",
    "for address in wemix_addresses:\n",
    "    print(f'Wemix balance: {wemix_balance[address]}')\n",
    "    print(f'Previous balance: {previous_balance_wemix[address]}')\n",
    "    if wemix_balance[address] != previous_balance_wemix[address]:\n",
    "        print(f'New transaction found on Block number: {block_number_wemix}!')\n",
    "        transactions = get_transactions(address, url_wemix, block_number_wemix)\n",
    "        print(transactions)\n",
    "        \n"
   ]
  },
  {
   "cell_type": "code",
   "execution_count": 33,
   "id": "1ca65c38",
   "metadata": {},
   "outputs": [],
   "source": [
    "# Get transaction on WEMIX network\n",
    "def get_transactions(address, url, block_number):\n",
    "    transactions = []\n",
    "    \n",
    "    \n",
    "    for block_index in range(block_number - 12, block_number+1):\n",
    "    \n",
    "        payload = {\n",
    "            \"jsonrpc\": \"2.0\",\n",
    "            \"method\": \"eth_getBlockByNumber\",\n",
    "            \"params\": [hex(block_index), True],\n",
    "            \"id\": 1\n",
    "        }\n",
    "        response = requests.post(url, json=payload)\n",
    "        block = response.json()['result']\n",
    "        \n",
    "        for tx in block[\"transactions\"]:\n",
    "            if tx[\"from\"].lower() == address.lower() or tx[\"to\"].lower() == address.lower():\n",
    "                transactions.append(tx)\n",
    "    \n",
    "    return transactions\n",
    "            "
   ]
  },
  {
   "cell_type": "code",
   "execution_count": 34,
   "id": "8d608e95",
   "metadata": {},
   "outputs": [
    {
     "ename": "TypeError",
     "evalue": "'int' object is not subscriptable",
     "output_type": "error",
     "traceback": [
      "\u001b[0;31m---------------------------------------------------------------------------\u001b[0m",
      "\u001b[0;31mTypeError\u001b[0m                                 Traceback (most recent call last)",
      "\u001b[0;32m/var/folders/bf/6_7xzj8x15d74q877jr9lhbr0000gn/T/ipykernel_82695/890299085.py\u001b[0m in \u001b[0;36m<module>\u001b[0;34m\u001b[0m\n\u001b[1;32m      1\u001b[0m \u001b[0maddress\u001b[0m \u001b[0;34m=\u001b[0m \u001b[0;34m'0x914B35276CB43CF64168Dc7FaB4EfBc423618014'\u001b[0m\u001b[0;34m\u001b[0m\u001b[0;34m\u001b[0m\u001b[0m\n\u001b[0;32m----> 2\u001b[0;31m \u001b[0mget_transactions\u001b[0m\u001b[0;34m(\u001b[0m\u001b[0maddress\u001b[0m\u001b[0;34m,\u001b[0m\u001b[0murl_wemix\u001b[0m\u001b[0;34m,\u001b[0m \u001b[0;36m15419295\u001b[0m\u001b[0;34m)\u001b[0m\u001b[0;34m\u001b[0m\u001b[0;34m\u001b[0m\u001b[0m\n\u001b[0m",
      "\u001b[0;32m/var/folders/bf/6_7xzj8x15d74q877jr9lhbr0000gn/T/ipykernel_82695/789395300.py\u001b[0m in \u001b[0;36mget_transactions\u001b[0;34m(address, url, block_number)\u001b[0m\n\u001b[1;32m     12\u001b[0m     \u001b[0mblock\u001b[0m \u001b[0;34m=\u001b[0m \u001b[0mresponse\u001b[0m\u001b[0;34m.\u001b[0m\u001b[0mjson\u001b[0m\u001b[0;34m(\u001b[0m\u001b[0;34m)\u001b[0m\u001b[0;34m[\u001b[0m\u001b[0;34m'result'\u001b[0m\u001b[0;34m]\u001b[0m\u001b[0;34m\u001b[0m\u001b[0;34m\u001b[0m\u001b[0m\n\u001b[1;32m     13\u001b[0m     \u001b[0;32mfor\u001b[0m \u001b[0mblock\u001b[0m \u001b[0;32min\u001b[0m \u001b[0mrange\u001b[0m\u001b[0;34m(\u001b[0m\u001b[0mblock_number\u001b[0m \u001b[0;34m-\u001b[0m \u001b[0;36m12\u001b[0m\u001b[0;34m,\u001b[0m \u001b[0mblock_number\u001b[0m\u001b[0;34m+\u001b[0m\u001b[0;36m1\u001b[0m\u001b[0;34m)\u001b[0m\u001b[0;34m:\u001b[0m\u001b[0;34m\u001b[0m\u001b[0;34m\u001b[0m\u001b[0m\n\u001b[0;32m---> 14\u001b[0;31m         \u001b[0;32mfor\u001b[0m \u001b[0mtx\u001b[0m \u001b[0;32min\u001b[0m \u001b[0mblock\u001b[0m\u001b[0;34m[\u001b[0m\u001b[0;34m\"transactions\"\u001b[0m\u001b[0;34m]\u001b[0m\u001b[0;34m:\u001b[0m\u001b[0;34m\u001b[0m\u001b[0;34m\u001b[0m\u001b[0m\n\u001b[0m\u001b[1;32m     15\u001b[0m             \u001b[0;32mif\u001b[0m \u001b[0mtx\u001b[0m\u001b[0;34m[\u001b[0m\u001b[0;34m\"from\"\u001b[0m\u001b[0;34m]\u001b[0m\u001b[0;34m.\u001b[0m\u001b[0mlower\u001b[0m\u001b[0;34m(\u001b[0m\u001b[0;34m)\u001b[0m \u001b[0;34m==\u001b[0m \u001b[0maddress\u001b[0m\u001b[0;34m.\u001b[0m\u001b[0mlower\u001b[0m\u001b[0;34m(\u001b[0m\u001b[0;34m)\u001b[0m \u001b[0;32mor\u001b[0m \u001b[0mtx\u001b[0m\u001b[0;34m[\u001b[0m\u001b[0;34m\"to\"\u001b[0m\u001b[0;34m]\u001b[0m\u001b[0;34m.\u001b[0m\u001b[0mlower\u001b[0m\u001b[0;34m(\u001b[0m\u001b[0;34m)\u001b[0m \u001b[0;34m==\u001b[0m \u001b[0maddress\u001b[0m\u001b[0;34m.\u001b[0m\u001b[0mlower\u001b[0m\u001b[0;34m(\u001b[0m\u001b[0;34m)\u001b[0m\u001b[0;34m:\u001b[0m\u001b[0;34m\u001b[0m\u001b[0;34m\u001b[0m\u001b[0m\n\u001b[1;32m     16\u001b[0m                 \u001b[0mtransactions\u001b[0m\u001b[0;34m.\u001b[0m\u001b[0mappend\u001b[0m\u001b[0;34m(\u001b[0m\u001b[0mtx\u001b[0m\u001b[0;34m)\u001b[0m\u001b[0;34m\u001b[0m\u001b[0;34m\u001b[0m\u001b[0m\n",
      "\u001b[0;31mTypeError\u001b[0m: 'int' object is not subscriptable"
     ]
    }
   ],
   "source": [
    "\n",
    "address = '0x914B35276CB43CF64168Dc7FaB4EfBc423618014'\n",
    "get_transactions(address,url_wemix, 15419295)"
   ]
  },
  {
   "cell_type": "code",
   "execution_count": null,
   "id": "0e6fef53",
   "metadata": {},
   "outputs": [],
   "source": [
    "# Telegram bot send function\n",
    "def send_telegram_message(bot_token, chat_id, message):\n",
    "    url = f\"https://api.telegram.org/bot{bot_token}/sendMessage\"\n",
    "    payload = {\n",
    "        \"chat_id\": chat_id,\n",
    "        \"text\": message\n",
    "    }\n",
    "    response = requests.post(url, json=payload)\n",
    "    return response.json()"
   ]
  },
  {
   "cell_type": "code",
   "execution_count": null,
   "id": "27c52153",
   "metadata": {},
   "outputs": [],
   "source": [
    "message_lines"
   ]
  },
  {
   "cell_type": "code",
   "execution_count": null,
   "id": "89699eca",
   "metadata": {},
   "outputs": [],
   "source": [
    "# Telegram bot \n",
    "#5961430353:AAENiehDUvjJ49K9Kw-fUAiGBhbV3jtPqrg\n",
    "\n",
    "#Initialize bot:\n",
    "bot_token = \"5961430353:AAENiehDUvjJ49K9Kw-fUAiGBhbV3jtPqrg\"\n",
    "chat_id = '1628044387'\n",
    "\n",
    "message = \"\\n\".join(message_lines)\n",
    "send_telegram_message(bot_token, chat_id, message)"
   ]
  },
  {
   "cell_type": "code",
   "execution_count": null,
   "id": "4b90c859",
   "metadata": {},
   "outputs": [],
   "source": [
    "# Api for my bot\n",
    "https://api.telegram.org/bot5961430353:AAENiehDUvjJ49K9Kw-fUAiGBhbV3jtPqrg/getMe\n",
    "        \n",
    "        "
   ]
  },
  {
   "cell_type": "code",
   "execution_count": 27,
   "id": "cce444cf",
   "metadata": {},
   "outputs": [
    {
     "name": "stdout",
     "output_type": "stream",
     "text": [
      "{'ok': True,\n",
      " 'result': [{'my_chat_member': {'chat': {'id': -1001958836056,\n",
      "                                         'title': 'personal bot tester',\n",
      "                                         'type': 'channel'},\n",
      "                                'date': 1681651349,\n",
      "                                'from': {'first_name': 'WH',\n",
      "                                         'id': 1628044387,\n",
      "                                         'is_bot': False,\n",
      "                                         'language_code': 'ko',\n",
      "                                         'username': 'wonheejo'},\n",
      "                                'new_chat_member': {'can_be_edited': False,\n",
      "                                                    'can_change_info': True,\n",
      "                                                    'can_delete_messages': True,\n",
      "                                                    'can_edit_messages': True,\n",
      "                                                    'can_invite_users': True,\n",
      "                                                    'can_manage_chat': True,\n",
      "                                                    'can_manage_video_chats': True,\n",
      "                                                    'can_manage_voice_chats': True,\n",
      "                                                    'can_post_messages': True,\n",
      "                                                    'can_promote_members': False,\n",
      "                                                    'can_restrict_members': True,\n",
      "                                                    'is_anonymous': False,\n",
      "                                                    'status': 'administrator',\n",
      "                                                    'user': {'first_name': 'personal_bot',\n",
      "                                                             'id': 6220693290,\n",
      "                                                             'is_bot': True,\n",
      "                                                             'username': 'wh_personal_bot'}},\n",
      "                                'old_chat_member': {'status': 'left',\n",
      "                                                    'user': {'first_name': 'personal_bot',\n",
      "                                                             'id': 6220693290,\n",
      "                                                             'is_bot': True,\n",
      "                                                             'username': 'wh_personal_bot'}}},\n",
      "             'update_id': 642770381},\n",
      "            {'channel_post': {'chat': {'id': -1001958836056,\n",
      "                                       'title': 'personal bot tester',\n",
      "                                       'type': 'channel'},\n",
      "                              'date': 1681651356,\n",
      "                              'message_id': 3,\n",
      "                              'sender_chat': {'id': -1001958836056,\n",
      "                                              'title': 'personal bot tester',\n",
      "                                              'type': 'channel'},\n",
      "                              'text': 'asdf'},\n",
      "             'update_id': 642770382}]}\n"
     ]
    }
   ],
   "source": [
    "bot_token = \"6220693290:AAHd2WGYNS5b9F9Cac_w7yWF4uVioETMv4I\"\n",
    "\n",
    "def get_updates(bot_token):\n",
    "    url = f\"https://api.telegram.org/bot{bot_token}/getUpdates\"\n",
    "    response = requests.get(url)\n",
    "    return response.json()\n",
    "\n",
    "updates = get_updates(bot_token)\n",
    "pprint(updates)"
   ]
  },
  {
   "cell_type": "code",
   "execution_count": null,
   "id": "5ab4c39d",
   "metadata": {},
   "outputs": [],
   "source": []
  }
 ],
 "metadata": {
  "kernelspec": {
   "display_name": "Python 3 (ipykernel)",
   "language": "python",
   "name": "python3"
  },
  "language_info": {
   "codemirror_mode": {
    "name": "ipython",
    "version": 3
   },
   "file_extension": ".py",
   "mimetype": "text/x-python",
   "name": "python",
   "nbconvert_exporter": "python",
   "pygments_lexer": "ipython3",
   "version": "3.9.13"
  }
 },
 "nbformat": 4,
 "nbformat_minor": 5
}
